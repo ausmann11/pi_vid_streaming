{
 "cells": [
  {
   "cell_type": "code",
   "execution_count": 1,
   "metadata": {
    "ExecuteTime": {
     "end_time": "2019-12-11T16:02:02.002968Z",
     "start_time": "2019-12-11T16:01:54.320771Z"
    }
   },
   "outputs": [],
   "source": [
    "import cv2\n",
    "import pandas as pd\n",
    "from collections import Counter\n",
    "import glob\n",
    "from pytube import YouTube\n",
    "from skimage import io\n",
    "import matplotlib.pyplot as plt"
   ]
  },
  {
   "cell_type": "code",
   "execution_count": 2,
   "metadata": {
    "ExecuteTime": {
     "end_time": "2019-12-11T16:02:02.099409Z",
     "start_time": "2019-12-11T16:02:02.023131Z"
    }
   },
   "outputs": [],
   "source": [
    "classNames = {0: 'background',\n",
    "              1: 'person', 2: 'bicycle', 3: 'car', 4: 'motorcycle', 5: 'airplane', 6: 'bus',\n",
    "              7: 'train', 8: 'truck', 9: 'boat', 10: 'traffic light', 11: 'fire hydrant',\n",
    "              13: 'stop sign', 14: 'parking meter', 15: 'bench', 16: 'bird', 17: 'cat',\n",
    "              18: 'dog', 19: 'horse', 20: 'sheep', 21: 'cow', 22: 'elephant', 23: 'bear',\n",
    "              24: 'zebra', 25: 'giraffe', 27: 'backpack', 28: 'umbrella', 31: 'handbag',\n",
    "              32: 'tie', 33: 'suitcase', 34: 'frisbee', 35: 'skis', 36: 'snowboard',\n",
    "              37: 'sports ball', 38: 'kite', 39: 'baseball bat', 40: 'baseball glove',\n",
    "              41: 'skateboard', 42: 'surfboard', 43: 'tennis racket', 44: 'bottle',\n",
    "              46: 'wine glass', 47: 'cup', 48: 'fork', 49: 'knife', 50: 'spoon',\n",
    "              51: 'bowl', 52: 'banana', 53: 'apple', 54: 'sandwich', 55: 'orange',\n",
    "              56: 'broccoli', 57: 'carrot', 58: 'hot dog', 59: 'pizza', 60: 'donut',\n",
    "              61: 'cake', 62: 'chair', 63: 'couch', 64: 'potted plant', 65: 'bed',\n",
    "              67: 'dining table', 70: 'toilet', 72: 'tv', 73: 'laptop', 74: 'mouse',\n",
    "              75: 'remote', 76: 'keyboard', 77: 'cell phone', 78: 'microwave', 79: 'oven',\n",
    "              80: 'toaster', 81: 'sink', 82: 'refrigerator', 84: 'book', 85: 'clock',\n",
    "              86: 'vase', 87: 'scissors', 88: 'teddy bear', 89: 'hair drier', 90: 'toothbrush'}"
   ]
  },
  {
   "cell_type": "code",
   "execution_count": 3,
   "metadata": {
    "ExecuteTime": {
     "end_time": "2019-12-11T16:02:02.207642Z",
     "start_time": "2019-12-11T16:02:02.141201Z"
    }
   },
   "outputs": [],
   "source": [
    "def id_class_name(class_id, classes):\n",
    "    for key, value in classes.items():\n",
    "        if class_id == key:\n",
    "            return value"
   ]
  },
  {
   "cell_type": "code",
   "execution_count": 4,
   "metadata": {
    "ExecuteTime": {
     "end_time": "2019-12-11T16:02:03.076901Z",
     "start_time": "2019-12-11T16:02:02.228219Z"
    }
   },
   "outputs": [],
   "source": [
    "# Loading model\n",
    "model = cv2.dnn.readNetFromTensorflow('models/frozen_inference_graph.pb',\n",
    "                                      'models/ssd_mobilenet_v2_coco_2018_03_29.pbtxt')"
   ]
  },
  {
   "cell_type": "code",
   "execution_count": 5,
   "metadata": {
    "ExecuteTime": {
     "end_time": "2019-12-11T16:02:03.100630Z",
     "start_time": "2019-12-11T16:02:03.086896Z"
    }
   },
   "outputs": [],
   "source": [
    "def class_image(image_path):\n",
    "    count=[]\n",
    "    image = cv2.imread(image_path)\n",
    "    image_height, image_width, _ = image.shape\n",
    "\n",
    "    model.setInput(cv2.dnn.blobFromImage(image, size=(300, 300), swapRB=True))\n",
    "    output = model.forward()\n",
    "    # print(output[0,0,:,:].shape)\n",
    "    for detection in output[0, 0, :, :]:\n",
    "        confidence = detection[2]\n",
    "        if confidence > .7:\n",
    "            class_id = detection[1]\n",
    "            class_name=id_class_name(class_id,classNames)\n",
    "            count.append(class_name)\n",
    "    c=Counter(count)\n",
    "    d = dict.fromkeys(classNames.values())\n",
    "    d.update(c)\n",
    "    df = pd.DataFrame.from_dict(d, orient=\"index\", columns=['frame']).transpose()\n",
    "    return df"
   ]
  },
  {
   "cell_type": "code",
   "execution_count": 6,
   "metadata": {
    "ExecuteTime": {
     "end_time": "2019-12-11T16:02:40.377548Z",
     "start_time": "2019-12-11T16:02:07.103545Z"
    }
   },
   "outputs": [],
   "source": [
    "im_list=glob.glob('*.jpg')\n",
    "count_df=pd.DataFrame(columns = classNames.values())\n",
    "for i in im_list:\n",
    "    df=class_image(i)\n",
    "    count_df=count_df.append(df,ignore_index=True)\n",
    "    \n",
    "    \n",
    "    "
   ]
  },
  {
   "cell_type": "code",
   "execution_count": 7,
   "metadata": {
    "ExecuteTime": {
     "end_time": "2019-12-11T16:02:40.466808Z",
     "start_time": "2019-12-11T16:02:40.439247Z"
    }
   },
   "outputs": [
    {
     "data": {
      "text/html": [
       "<div>\n",
       "<style scoped>\n",
       "    .dataframe tbody tr th:only-of-type {\n",
       "        vertical-align: middle;\n",
       "    }\n",
       "\n",
       "    .dataframe tbody tr th {\n",
       "        vertical-align: top;\n",
       "    }\n",
       "\n",
       "    .dataframe thead th {\n",
       "        text-align: right;\n",
       "    }\n",
       "</style>\n",
       "<table border=\"1\" class=\"dataframe\">\n",
       "  <thead>\n",
       "    <tr style=\"text-align: right;\">\n",
       "      <th></th>\n",
       "      <th>airplane</th>\n",
       "      <th>bird</th>\n",
       "      <th>cat</th>\n",
       "      <th>horse</th>\n",
       "      <th>cow</th>\n",
       "      <th>elephant</th>\n",
       "      <th>bear</th>\n",
       "      <th>vase</th>\n",
       "      <th>teddy bear</th>\n",
       "    </tr>\n",
       "  </thead>\n",
       "  <tbody>\n",
       "    <tr>\n",
       "      <th>0</th>\n",
       "      <td>0.0</td>\n",
       "      <td>0.0</td>\n",
       "      <td>0.0</td>\n",
       "      <td>0.0</td>\n",
       "      <td>1.0</td>\n",
       "      <td>0.0</td>\n",
       "      <td>0.0</td>\n",
       "      <td>0.0</td>\n",
       "      <td>0.0</td>\n",
       "    </tr>\n",
       "    <tr>\n",
       "      <th>20</th>\n",
       "      <td>0.0</td>\n",
       "      <td>0.0</td>\n",
       "      <td>0.0</td>\n",
       "      <td>0.0</td>\n",
       "      <td>2.0</td>\n",
       "      <td>0.0</td>\n",
       "      <td>0.0</td>\n",
       "      <td>0.0</td>\n",
       "      <td>0.0</td>\n",
       "    </tr>\n",
       "    <tr>\n",
       "      <th>40</th>\n",
       "      <td>0.0</td>\n",
       "      <td>0.0</td>\n",
       "      <td>0.0</td>\n",
       "      <td>0.0</td>\n",
       "      <td>0.0</td>\n",
       "      <td>0.0</td>\n",
       "      <td>0.0</td>\n",
       "      <td>0.0</td>\n",
       "      <td>0.0</td>\n",
       "    </tr>\n",
       "    <tr>\n",
       "      <th>60</th>\n",
       "      <td>0.0</td>\n",
       "      <td>0.0</td>\n",
       "      <td>0.0</td>\n",
       "      <td>0.0</td>\n",
       "      <td>0.0</td>\n",
       "      <td>0.0</td>\n",
       "      <td>0.0</td>\n",
       "      <td>0.0</td>\n",
       "      <td>0.0</td>\n",
       "    </tr>\n",
       "    <tr>\n",
       "      <th>80</th>\n",
       "      <td>0.0</td>\n",
       "      <td>0.0</td>\n",
       "      <td>0.0</td>\n",
       "      <td>0.0</td>\n",
       "      <td>0.0</td>\n",
       "      <td>0.0</td>\n",
       "      <td>0.0</td>\n",
       "      <td>0.0</td>\n",
       "      <td>0.0</td>\n",
       "    </tr>\n",
       "  </tbody>\n",
       "</table>\n",
       "</div>"
      ],
      "text/plain": [
       "    airplane  bird  cat  horse  cow  elephant  bear  vase  teddy bear\n",
       "0        0.0   0.0  0.0    0.0  1.0       0.0   0.0   0.0         0.0\n",
       "20       0.0   0.0  0.0    0.0  2.0       0.0   0.0   0.0         0.0\n",
       "40       0.0   0.0  0.0    0.0  0.0       0.0   0.0   0.0         0.0\n",
       "60       0.0   0.0  0.0    0.0  0.0       0.0   0.0   0.0         0.0\n",
       "80       0.0   0.0  0.0    0.0  0.0       0.0   0.0   0.0         0.0"
      ]
     },
     "execution_count": 7,
     "metadata": {},
     "output_type": "execute_result"
    }
   ],
   "source": [
    "found=count_df.dropna(axis='columns',how='all')\n",
    "found=found.fillna(0)\n",
    "found=found.set_index([list(range(0,3841,20))])\n",
    "found.head()"
   ]
  },
  {
   "cell_type": "code",
   "execution_count": 10,
   "metadata": {
    "ExecuteTime": {
     "end_time": "2019-12-11T16:04:00.911974Z",
     "start_time": "2019-12-11T16:04:00.900157Z"
    }
   },
   "outputs": [
    {
     "data": {
      "text/plain": [
       "airplane      1.0\n",
       "bird          0.0\n",
       "cat           0.0\n",
       "horse         0.0\n",
       "cow           0.0\n",
       "elephant      0.0\n",
       "bear          0.0\n",
       "vase          0.0\n",
       "teddy bear    0.0\n",
       "Name: 440, dtype: float64"
      ]
     },
     "execution_count": 10,
     "metadata": {},
     "output_type": "execute_result"
    }
   ],
   "source": [
    "found.iloc[22]"
   ]
  },
  {
   "cell_type": "code",
   "execution_count": 12,
   "metadata": {
    "ExecuteTime": {
     "end_time": "2019-12-11T16:05:01.044710Z",
     "start_time": "2019-12-11T16:05:01.039747Z"
    }
   },
   "outputs": [
    {
     "data": {
      "text/plain": [
       "'frame1380.jpg'"
      ]
     },
     "execution_count": 12,
     "metadata": {},
     "output_type": "execute_result"
    }
   ],
   "source": [
    "im_list[22]"
   ]
  },
  {
   "cell_type": "code",
   "execution_count": 97,
   "metadata": {
    "ExecuteTime": {
     "end_time": "2019-12-09T16:52:00.198731Z",
     "start_time": "2019-12-09T16:52:00.167771Z"
    },
    "scrolled": true
   },
   "outputs": [
    {
     "data": {
      "text/html": [
       "<div>\n",
       "<style scoped>\n",
       "    .dataframe tbody tr th:only-of-type {\n",
       "        vertical-align: middle;\n",
       "    }\n",
       "\n",
       "    .dataframe tbody tr th {\n",
       "        vertical-align: top;\n",
       "    }\n",
       "\n",
       "    .dataframe thead th {\n",
       "        text-align: right;\n",
       "    }\n",
       "</style>\n",
       "<table border=\"1\" class=\"dataframe\">\n",
       "  <thead>\n",
       "    <tr style=\"text-align: right;\">\n",
       "      <th></th>\n",
       "      <th>airplane</th>\n",
       "      <th>bird</th>\n",
       "      <th>cat</th>\n",
       "      <th>horse</th>\n",
       "      <th>cow</th>\n",
       "      <th>elephant</th>\n",
       "      <th>bear</th>\n",
       "      <th>vase</th>\n",
       "      <th>teddy bear</th>\n",
       "    </tr>\n",
       "  </thead>\n",
       "  <tbody>\n",
       "    <tr>\n",
       "      <th>440</th>\n",
       "      <td>1.0</td>\n",
       "      <td>0.0</td>\n",
       "      <td>0.0</td>\n",
       "      <td>0.0</td>\n",
       "      <td>0.0</td>\n",
       "      <td>0.0</td>\n",
       "      <td>0.0</td>\n",
       "      <td>0.0</td>\n",
       "      <td>0.0</td>\n",
       "    </tr>\n",
       "  </tbody>\n",
       "</table>\n",
       "</div>"
      ],
      "text/plain": [
       "     airplane  bird  cat  horse  cow  elephant  bear  vase  teddy bear\n",
       "440       1.0   0.0  0.0    0.0  0.0       0.0   0.0   0.0         0.0"
      ]
     },
     "execution_count": 97,
     "metadata": {},
     "output_type": "execute_result"
    }
   ],
   "source": [
    "found[found['airplane']==1]"
   ]
  },
  {
   "cell_type": "code",
   "execution_count": 98,
   "metadata": {
    "ExecuteTime": {
     "end_time": "2019-12-09T16:52:37.682851Z",
     "start_time": "2019-12-09T16:52:37.651598Z"
    }
   },
   "outputs": [
    {
     "data": {
      "text/html": [
       "<div>\n",
       "<style scoped>\n",
       "    .dataframe tbody tr th:only-of-type {\n",
       "        vertical-align: middle;\n",
       "    }\n",
       "\n",
       "    .dataframe tbody tr th {\n",
       "        vertical-align: top;\n",
       "    }\n",
       "\n",
       "    .dataframe thead th {\n",
       "        text-align: right;\n",
       "    }\n",
       "</style>\n",
       "<table border=\"1\" class=\"dataframe\">\n",
       "  <thead>\n",
       "    <tr style=\"text-align: right;\">\n",
       "      <th></th>\n",
       "      <th>airplane</th>\n",
       "      <th>bird</th>\n",
       "      <th>cat</th>\n",
       "      <th>horse</th>\n",
       "      <th>cow</th>\n",
       "      <th>elephant</th>\n",
       "      <th>bear</th>\n",
       "      <th>vase</th>\n",
       "      <th>teddy bear</th>\n",
       "    </tr>\n",
       "  </thead>\n",
       "  <tbody>\n",
       "    <tr>\n",
       "      <th>1660</th>\n",
       "      <td>0.0</td>\n",
       "      <td>0.0</td>\n",
       "      <td>0.0</td>\n",
       "      <td>0.0</td>\n",
       "      <td>0.0</td>\n",
       "      <td>0.0</td>\n",
       "      <td>0.0</td>\n",
       "      <td>0.0</td>\n",
       "      <td>1.0</td>\n",
       "    </tr>\n",
       "  </tbody>\n",
       "</table>\n",
       "</div>"
      ],
      "text/plain": [
       "      airplane  bird  cat  horse  cow  elephant  bear  vase  teddy bear\n",
       "1660       0.0   0.0  0.0    0.0  0.0       0.0   0.0   0.0         1.0"
      ]
     },
     "execution_count": 98,
     "metadata": {},
     "output_type": "execute_result"
    }
   ],
   "source": [
    "found[found['teddy bear']==1]"
   ]
  },
  {
   "cell_type": "code",
   "execution_count": 94,
   "metadata": {
    "ExecuteTime": {
     "end_time": "2019-12-09T15:37:06.067424Z",
     "start_time": "2019-12-09T15:37:05.095040Z"
    }
   },
   "outputs": [
    {
     "data": {
      "image/png": "[encoded data removed]",
      "text/plain": [
       "<Figure size 1440x1080 with 9 Axes>"
      ]
     },
     "metadata": {
      "needs_background": "light"
     },
     "output_type": "display_data"
    }
   ],
   "source": [
    "found.plot.line(figsize=(20,15),xticks=subplots=True)\n",
    "plt.show()"
   ]
  },
  {
   "cell_type": "code",
   "execution_count": 77,
   "metadata": {
    "ExecuteTime": {
     "end_time": "2019-12-09T15:26:11.644316Z",
     "start_time": "2019-12-09T15:26:11.512565Z"
    }
   },
   "outputs": [
    {
     "data": {
      "image/png": "[encoded data removed]",
      "text/plain": [
       "<Figure size 432x288 with 1 Axes>"
      ]
     },
     "metadata": {
      "needs_background": "light"
     },
     "output_type": "display_data"
    }
   ],
   "source": [
    "found.airplane.plot(kind='line')\n",
    "plt.show()"
   ]
  },
  {
   "cell_type": "code",
   "execution_count": 78,
   "metadata": {
    "ExecuteTime": {
     "end_time": "2019-12-09T15:27:40.794804Z",
     "start_time": "2019-12-09T15:27:40.663210Z"
    }
   },
   "outputs": [
    {
     "data": {
      "image/png": "[encoded data removed]",
      "text/plain": [
       "<Figure size 432x288 with 1 Axes>"
      ]
     },
     "metadata": {
      "needs_background": "light"
     },
     "output_type": "display_data"
    }
   ],
   "source": [
    "found.bench.plot('line')\n",
    "plt.show()"
   ]
  },
  {
   "cell_type": "code",
   "execution_count": 79,
   "metadata": {
    "ExecuteTime": {
     "end_time": "2019-12-09T15:27:58.512885Z",
     "start_time": "2019-12-09T15:27:58.381286Z"
    }
   },
   "outputs": [
    {
     "data": {
      "image/png": "[encoded data removed]",
      "text/plain": [
       "<Figure size 432x288 with 1 Axes>"
      ]
     },
     "metadata": {
      "needs_background": "light"
     },
     "output_type": "display_data"
    }
   ],
   "source": [
    "found.bird.plot(kind='line')\n",
    "plt.show()"
   ]
  },
  {
   "cell_type": "code",
   "execution_count": 65,
   "metadata": {
    "ExecuteTime": {
     "end_time": "2019-12-05T17:12:54.535608Z",
     "start_time": "2019-12-05T17:12:50.629307Z"
    }
   },
   "outputs": [
    {
     "data": {
      "text/plain": [
       "'C:\\\\Users\\\\sam2146\\\\Documents\\\\ExploreOpencvDnn\\\\images\\\\Parking lot filling up.mp4'"
      ]
     },
     "execution_count": 65,
     "metadata": {},
     "output_type": "execute_result"
    }
   ],
   "source": [
    "YouTube('https://www.youtube.com/watch?v=MCDEaU8lPv8').streams.first().download(r'C:\\Users\\sam2146\\Documents\\ExploreOpencvDnn\\images')"
   ]
  },
  {
   "cell_type": "code",
   "execution_count": 17,
   "metadata": {
    "ExecuteTime": {
     "end_time": "2019-12-09T15:06:42.233458Z",
     "start_time": "2019-12-09T15:06:32.049464Z"
    }
   },
   "outputs": [
    {
     "data": {
      "text/plain": [
       "'C:\\\\Users\\\\sam2146\\\\Documents\\\\ExploreOpencvDnn\\\\images\\\\Happy Valentine&39s Day from Exploreorg.mp4'"
      ]
     },
     "execution_count": 17,
     "metadata": {},
     "output_type": "execute_result"
    }
   ],
   "source": [
    "YouTube('https://www.youtube.com/watch?v=S9YEC6ru9lQ&list=PLkAmZAcQ2jdre8fvASito9a9JjbmZAp5C&index=2').streams.first().download(r'C:\\Users\\sam2146\\Documents\\ExploreOpencvDnn\\images')"
   ]
  },
  {
   "cell_type": "code",
   "execution_count": 18,
   "metadata": {
    "ExecuteTime": {
     "end_time": "2019-12-09T15:07:26.017658Z",
     "start_time": "2019-12-09T15:06:57.137352Z"
    }
   },
   "outputs": [],
   "source": [
    "# Function to extract frames \n",
    "def FrameCapture(path): \n",
    "      \n",
    "    # Path to video file \n",
    "    vidObj = cv2.VideoCapture(path) \n",
    "  \n",
    "    # Used as counter variable \n",
    "    count = 0\n",
    "  \n",
    "    # checks whether frames were extracted \n",
    "    success = 1\n",
    "  \n",
    "    while success: \n",
    "  \n",
    "        # vidObj object calls read \n",
    "        # function extract frames \n",
    "        success, image = vidObj.read() \n",
    "        if count%20==0:\n",
    "        # Saves the frames with frame-count \n",
    "            cv2.imwrite(\"frame%d.jpg\" % count, image) \n",
    "  \n",
    "        count += 1\n",
    "    # Driver Code \n",
    "if __name__ == '__main__': \n",
    "  \n",
    "    # Calling the function \n",
    "    FrameCapture(r\"C:\\Users\\sam2146\\Documents\\ExploreOpencvDnn\\images\\Happy Valentine&39s Day from Exploreorg.mp4\") "
   ]
  },
  {
   "cell_type": "code",
   "execution_count": null,
   "metadata": {},
   "outputs": [],
   "source": []
  }
 ],
 "metadata": {
  "hide_input": false,
  "kernelspec": {
   "display_name": "Python 3",
   "language": "python",
   "name": "python3"
  },
  "language_info": {
   "codemirror_mode": {
    "name": "ipython",
    "version": 3
   },
   "file_extension": ".py",
   "mimetype": "text/x-python",
   "name": "python",
   "nbconvert_exporter": "python",
   "pygments_lexer": "ipython3",
   "version": "3.6.8"
  },
  "toc": {
   "base_numbering": 1,
   "nav_menu": {},
   "number_sections": true,
   "sideBar": true,
   "skip_h1_title": false,
   "title_cell": "Table of Contents",
   "title_sidebar": "Contents",
   "toc_cell": false,
   "toc_position": {},
   "toc_section_display": true,
   "toc_window_display": false
  },
  "varInspector": {
   "cols": {
    "lenName": 16,
    "lenType": 16,
    "lenVar": 40
   },
   "kernels_config": {
    "python": {
     "delete_cmd_postfix": "",
     "delete_cmd_prefix": "del ",
     "library": "var_list.py",
     "varRefreshCmd": "print(var_dic_list())"
    },
    "r": {
     "delete_cmd_postfix": ") ",
     "delete_cmd_prefix": "rm(",
     "library": "var_list.r",
     "varRefreshCmd": "cat(var_dic_list()) "
    }
   },
   "types_to_exclude": [
    "module",
    "function",
    "builtin_function_or_method",
    "instance",
    "_Feature"
   ],
   "window_display": false
  }
 },
 "nbformat": 4,
 "nbformat_minor": 2
}
